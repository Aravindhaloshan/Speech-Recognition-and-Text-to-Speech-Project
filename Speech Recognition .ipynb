{
 "cells": [
  {
   "cell_type": "code",
   "execution_count": 1,
   "id": "a2399a94-d62d-4414-afda-ffe1dc69312e",
   "metadata": {},
   "outputs": [
    {
     "name": "stdout",
     "output_type": "stream",
     "text": [
      "Requirement already satisfied: SpeechRecognition in c:\\users\\91966\\anaconda3\\lib\\site-packages (3.14.1)\n",
      "Requirement already satisfied: typing-extensions in c:\\users\\91966\\anaconda3\\lib\\site-packages (from SpeechRecognition) (4.11.0)\n",
      "Requirement already satisfied: pyttsx3 in c:\\users\\91966\\anaconda3\\lib\\site-packages (2.98)\n",
      "Requirement already satisfied: comtypes in c:\\users\\91966\\anaconda3\\lib\\site-packages (from pyttsx3) (1.4.10)\n",
      "Requirement already satisfied: pypiwin32 in c:\\users\\91966\\anaconda3\\lib\\site-packages (from pyttsx3) (223)\n",
      "Requirement already satisfied: pywin32 in c:\\users\\91966\\anaconda3\\lib\\site-packages (from pyttsx3) (305.1)\n",
      "Collecting PyAudio\n",
      "  Using cached PyAudio-0.2.14-cp312-cp312-win_amd64.whl.metadata (2.7 kB)\n",
      "Using cached PyAudio-0.2.14-cp312-cp312-win_amd64.whl (164 kB)\n",
      "Installing collected packages: PyAudio\n",
      "Successfully installed PyAudio-0.2.14\n"
     ]
    }
   ],
   "source": [
    "!pip install SpeechRecognition\n",
    "!pip install pyttsx3\n",
    "!pip install PyAudio"
   ]
  },
  {
   "cell_type": "code",
   "execution_count": 10,
   "id": "e2dc2f5c-863d-40ab-965e-d9a5b35e50c2",
   "metadata": {},
   "outputs": [],
   "source": [
    "import speech_recognition as sr \n",
    "import pyttsx3"
   ]
  },
  {
   "cell_type": "code",
   "execution_count": null,
   "id": "efb9b123-857c-4a28-a58f-0d3b75a23914",
   "metadata": {},
   "outputs": [],
   "source": [
    "def SpeakNow(text):\n",
    "    engine = pyttsx3.init()\n",
    "    engine.say(text)\n",
    "    engine.runAndWait()\n",
    "\n",
    "# Example usage\n",
    "speak_now(\"Hello, how are you?\")"
   ]
  },
  {
   "cell_type": "code",
   "execution_count": 7,
   "id": "01d51bb8-2f53-4b88-b8ba-107315226873",
   "metadata": {},
   "outputs": [],
   "source": [
    "recognizer = sr.Recognizer()  # Create Recognizer instance\n"
   ]
  },
  {
   "cell_type": "code",
   "execution_count": 9,
   "id": "5dca7ef3-69d2-48d3-ba9a-6e0f303581a1",
   "metadata": {},
   "outputs": [
    {
     "name": "stdout",
     "output_type": "stream",
     "text": [
      "Silence please...\n",
      "Speak now please...\n",
      "Did you say: hello how are you\n"
     ]
    }
   ],
   "source": [
    "import speech_recognition as sr\n",
    "import pyttsx3  # Import text-to-speech library\n",
    "\n",
    "# Define the SpeakNow function\n",
    "\n",
    "\n",
    "recognizer = sr.Recognizer()\n",
    "\n",
    "with sr.Microphone() as source2:\n",
    "    print(\"Silence please...\")\n",
    "    recognizer.adjust_for_ambient_noise(source2, duration=2)  # Adjust for ambient noise\n",
    "    print(\"Speak now please...\")\n",
    "\n",
    "    audio = recognizer.listen(source2)  # Listen for audio\n",
    "\n",
    "try:\n",
    "    textt = recognizer.recognize_google(audio)  # Convert speech to text\n",
    "    textt = textt.lower()  # Convert text to lowercase\n",
    "    print(\"Did you say: \" + textt)  # Print recognized text\n",
    "\n",
    "    SpeakNow(textt)  # Call the function (should now be defined)\n",
    "\n",
    "except sr.UnknownValueError:\n",
    "    print(\"Sorry, I couldn't understand what you said.\")\n",
    "except sr.RequestError:\n",
    "    print(\"Could not request results, please check your internet connection.\")\n"
   ]
  },
  {
   "cell_type": "code",
   "execution_count": null,
   "id": "1ec4b891-c0ef-434b-bd6b-7943d83b114a",
   "metadata": {},
   "outputs": [],
   "source": []
  },
  {
   "cell_type": "code",
   "execution_count": null,
   "id": "08a45508-4bf4-467c-ae02-3d69810a404b",
   "metadata": {},
   "outputs": [],
   "source": []
  }
 ],
 "metadata": {
  "kernelspec": {
   "display_name": "Python 3 (ipykernel)",
   "language": "python",
   "name": "python3"
  },
  "language_info": {
   "codemirror_mode": {
    "name": "ipython",
    "version": 3
   },
   "file_extension": ".py",
   "mimetype": "text/x-python",
   "name": "python",
   "nbconvert_exporter": "python",
   "pygments_lexer": "ipython3",
   "version": "3.12.4"
  }
 },
 "nbformat": 4,
 "nbformat_minor": 5
}
